{
  "nbformat": 4,
  "nbformat_minor": 0,
  "metadata": {
    "colab": {
      "provenance": []
    },
    "kernelspec": {
      "name": "python3",
      "display_name": "Python 3"
    },
    "language_info": {
      "name": "python"
    }
  },
  "cells": [
    {
      "cell_type": "markdown",
      "source": [
        "**Câu 1**"
      ],
      "metadata": {
        "id": "afH_VzuIcTex"
      }
    },
    {
      "cell_type": "code",
      "source": [
        "from collections import deque\n",
        "def max_kernel(num_list, k):\n",
        "  dq = deque()\n",
        "  res = []\n",
        "\n",
        "  for i in range(k):\n",
        "        while dq and num_list[dq[-1]] < num_list[i]:\n",
        "            dq.pop()\n",
        "        dq.append(i)\n",
        "  res.append(num_list[dq[0]])\n",
        "\n",
        "  for i in range(k, len(num_list)):\n",
        "        if dq and dq[0] <= i - k:\n",
        "            dq.popleft()\n",
        "\n",
        "        while dq and num_list[dq[-1]] < num_list[i]:\n",
        "            dq.pop()\n",
        "\n",
        "        dq.append(i)\n",
        "        res.append(num_list[dq[0]])\n",
        "\n",
        "  return res"
      ],
      "metadata": {
        "id": "aCMzZ_tacleG"
      },
      "execution_count": 1,
      "outputs": []
    },
    {
      "cell_type": "code",
      "source": [
        "if __name__ == \"__main__\":\n",
        "    assert max_kernel([3, 4, 5, 1, -44], 3) == [5, 5, 5]\n",
        "    num_list = [3, 4, 5, 1, -44, 5, 10, 12, 33, 1]\n",
        "    k = 3\n",
        "    print(max_kernel(num_list, k))  # [5, 5, 5, 5, 10, 12, 33, 33]"
      ],
      "metadata": {
        "colab": {
          "base_uri": "https://localhost:8080/"
        },
        "id": "JTkeeMM2dl63",
        "outputId": "3d8fc780-b624-4d1d-908a-e274a5294bfe"
      },
      "execution_count": 2,
      "outputs": [
        {
          "output_type": "stream",
          "name": "stdout",
          "text": [
            "[5, 5, 5, 5, 10, 12, 33, 33]\n"
          ]
        }
      ]
    },
    {
      "cell_type": "code",
      "source": [
        "from collections import Counter"
      ],
      "metadata": {
        "id": "pPMuE__IvECF"
      },
      "execution_count": 3,
      "outputs": []
    },
    {
      "cell_type": "markdown",
      "source": [
        "**Câu 2**"
      ],
      "metadata": {
        "id": "wsFvR27JwA2W"
      }
    },
    {
      "cell_type": "code",
      "source": [
        "def char_count(string):\n",
        "    counter = {}\n",
        "    for char in string:\n",
        "        if char in counter:\n",
        "            counter[char] += 1\n",
        "        else:\n",
        "            counter[char] = 1\n",
        "\n",
        "    return counter"
      ],
      "metadata": {
        "id": "GxyqOATnvgsv"
      },
      "execution_count": 4,
      "outputs": []
    },
    {
      "cell_type": "code",
      "source": [
        "if __name__ == \"__main__\":\n",
        "    assert char_count(\"Baby\") == {\"B\": 1, \"a\": 1, \"b\": 1, \"y\": 1}\n",
        "    print(char_count(\"smiles\"))  # {'s': 2, 'm': 1, 'i': 1, 'l': 1, 'e': 1}"
      ],
      "metadata": {
        "colab": {
          "base_uri": "https://localhost:8080/"
        },
        "id": "UHl0vqMyvvAA",
        "outputId": "db09a513-9165-4bcc-e008-0c01f1ce57b5"
      },
      "execution_count": 5,
      "outputs": [
        {
          "output_type": "stream",
          "name": "stdout",
          "text": [
            "{'s': 2, 'm': 1, 'i': 1, 'l': 1, 'e': 1}\n"
          ]
        }
      ]
    },
    {
      "cell_type": "markdown",
      "source": [
        "**Câu 3**"
      ],
      "metadata": {
        "id": "9acEJyFewQVQ"
      }
    },
    {
      "cell_type": "code",
      "source": [
        "!gdown https://drive.google.com/uc?id=1IBScGdW2xlNsc9v5zSAya548kNgiOrko\n",
        "def count_word(file_path):\n",
        "    file = open(file_path, \"r\")\n",
        "    word_list = file.read()\n",
        "    counter = {}\n",
        "\n",
        "    for word in word_list.split():\n",
        "        word = word.lower()\n",
        "        if word in counter:\n",
        "            counter[word] += 1\n",
        "        else:\n",
        "            counter[word] = 1\n",
        "\n",
        "    file.close()\n",
        "    return counter"
      ],
      "metadata": {
        "colab": {
          "base_uri": "https://localhost:8080/"
        },
        "id": "XA1wII9TwU8D",
        "outputId": "57e31fa4-1f2f-40ea-ec6f-59170feb6ece"
      },
      "execution_count": 10,
      "outputs": [
        {
          "output_type": "stream",
          "name": "stdout",
          "text": [
            "Downloading...\n",
            "From: https://drive.google.com/uc?id=1IBScGdW2xlNsc9v5zSAya548kNgiOrko\n",
            "To: /content/P1_data.txt\n",
            "\r  0% 0.00/747 [00:00<?, ?B/s]\r100% 747/747 [00:00<00:00, 2.23MB/s]\n"
          ]
        }
      ]
    },
    {
      "cell_type": "code",
      "source": [
        "if __name__ == \"__main__\":\n",
        "    file_path = '/content/P1_data.txt'\n",
        "    res = count_word(file_path)\n",
        "    assert res[\"who\"] == 3\n",
        "    print(res[\"man\"])  # 6"
      ],
      "metadata": {
        "colab": {
          "base_uri": "https://localhost:8080/"
        },
        "id": "9xrZf4Stw3RX",
        "outputId": "e19ca8a6-75f8-4d33-9d5e-564d9df5f96c"
      },
      "execution_count": 11,
      "outputs": [
        {
          "output_type": "stream",
          "name": "stdout",
          "text": [
            "6\n"
          ]
        }
      ]
    },
    {
      "cell_type": "markdown",
      "source": [
        "**Câu 4**"
      ],
      "metadata": {
        "id": "RRggRHDZx3Lv"
      }
    },
    {
      "cell_type": "code",
      "source": [
        "import numpy as np\n",
        "def levenshtein(source, target):\n",
        "    dp = np.full((len(source) + 1, len(target) + 1), 0)\n",
        "\n",
        "    # Insert distance\n",
        "    for i in range(len(source) + 1):\n",
        "        dp[i][0] = i\n",
        "\n",
        "    # Delete distance\n",
        "    for j in range(len(target) + 1):\n",
        "        dp[0][j] = j\n",
        "\n",
        "    for i in range(1, len(source) + 1):\n",
        "        for j in range(1, len(target) + 1):\n",
        "            sub_cost = 0\n",
        "            if source[i - 1] != target[j - 1]:\n",
        "                sub_cost = 1\n",
        "            dp[i][j] = min(dp[i - 1][j] + 1,  # delete cost\n",
        "                           dp[i][j - 1] + 1,  # insert cost\n",
        "                           dp[i - 1][j - 1] + sub_cost)  # sub_cost\n",
        "\n",
        "    return dp[len(source)][len(target)]"
      ],
      "metadata": {
        "id": "agYEvk5rx6BL"
      },
      "execution_count": 12,
      "outputs": []
    },
    {
      "cell_type": "code",
      "source": [
        "if __name__ == \"__main__\":\n",
        "    assert levenshtein(\"hi\", \"hello\") == 4.0\n",
        "    print(levenshtein(\"hola\", \"hello\"))  # 3"
      ],
      "metadata": {
        "colab": {
          "base_uri": "https://localhost:8080/"
        },
        "id": "DYq1DKdf5OjQ",
        "outputId": "c9e96e55-1bcc-4752-efb3-77b74441c1c8"
      },
      "execution_count": 14,
      "outputs": [
        {
          "output_type": "stream",
          "name": "stdout",
          "text": [
            "3\n"
          ]
        }
      ]
    },
    {
      "cell_type": "markdown",
      "source": [
        "**Câu 5**"
      ],
      "metadata": {
        "id": "E0exhXUz5fTf"
      }
    },
    {
      "cell_type": "code",
      "source": [
        "def check_the_number(num):\n",
        "    num_list = []\n",
        "    res = \"\"\n",
        "    for i in range(1, 5):\n",
        "        num_list.append(i)\n",
        "    if num in num_list:\n",
        "        res = \"True\"\n",
        "    if num not in num_list:\n",
        "        res = \"False\"\n",
        "\n",
        "    return res"
      ],
      "metadata": {
        "id": "68WetPbH5ll2"
      },
      "execution_count": 15,
      "outputs": []
    },
    {
      "cell_type": "code",
      "source": [
        "if __name__ == \"__main__\":\n",
        "    assert check_the_number(7) == \"False\"\n",
        "    print(check_the_number(2))  # True"
      ],
      "metadata": {
        "colab": {
          "base_uri": "https://localhost:8080/"
        },
        "id": "nTvfnn0u7ITW",
        "outputId": "f53948aa-4a15-417f-9481-8006ae9f2b36"
      },
      "execution_count": 16,
      "outputs": [
        {
          "output_type": "stream",
          "name": "stdout",
          "text": [
            "True\n"
          ]
        }
      ]
    },
    {
      "cell_type": "markdown",
      "source": [
        "**Câu 6**"
      ],
      "metadata": {
        "id": "TSRWyZ5L96P8"
      }
    },
    {
      "cell_type": "code",
      "source": [
        "def append_min(data, maxz, minz):\n",
        "    res = []\n",
        "    for i in data:\n",
        "        if i < minz:\n",
        "            res.append(minz)\n",
        "        elif i > maxz:\n",
        "            res.append(maxz)\n",
        "        else:\n",
        "            res.append(i)\n",
        "\n",
        "    return res"
      ],
      "metadata": {
        "id": "q0UPItDS7arT"
      },
      "execution_count": 17,
      "outputs": []
    },
    {
      "cell_type": "code",
      "source": [
        "if __name__ == '__main__':\n",
        "    assert append_min(data=[5, 2, 5, 0, 1], maxz=1, minz=0) == [1, 1, 1, 0, 1]\n",
        "    print(append_min(data=[10, 2, 5, 0, 1], maxz=2, minz=1))  # [2, 2, 2, 1, 1]"
      ],
      "metadata": {
        "colab": {
          "base_uri": "https://localhost:8080/"
        },
        "id": "LqGfJNl48FFF",
        "outputId": "244b7e35-91a0-4c43-fddc-8468881a0927"
      },
      "execution_count": 18,
      "outputs": [
        {
          "output_type": "stream",
          "name": "stdout",
          "text": [
            "[2, 2, 2, 1, 1]\n"
          ]
        }
      ]
    },
    {
      "cell_type": "markdown",
      "source": [
        "**Câu 7**"
      ],
      "metadata": {
        "id": "-w5jkYO2-HeG"
      }
    },
    {
      "cell_type": "code",
      "source": [
        "def extend_list(x, y):\n",
        "    x.extend(y)\n",
        "    return x\n",
        "\n",
        "\n",
        "if __name__ == '__main__':\n",
        "    num_list_1 = [\"a\", 2, 5]\n",
        "    num_list_2 = [1, 1]\n",
        "    num_list_3 = [0, 0]\n",
        "\n",
        "    assert extend_list(num_list_1,\n",
        "                       extend_list(num_list_2, num_list_3)) == ['a', 2, 5, 1, 1, 0, 0]\n",
        "\n",
        "    num_list_1 = [1, 2]\n",
        "    num_list_2 = [3, 4]\n",
        "    num_list_3 = [0, 0]\n",
        "\n",
        "    # [1, 2, 3, 4, 0, 0]\n",
        "    print(extend_list(num_list_1, my_func(num_list_2, num_list_3)))"
      ],
      "metadata": {
        "colab": {
          "base_uri": "https://localhost:8080/"
        },
        "id": "fJq6gS0q8RM2",
        "outputId": "54035990-3a90-47e4-d275-e0e7857b910c"
      },
      "execution_count": 19,
      "outputs": [
        {
          "output_type": "stream",
          "name": "stdout",
          "text": [
            "[1, 2, 3, 4, 0, 0]\n"
          ]
        }
      ]
    },
    {
      "cell_type": "markdown",
      "source": [
        "**Câu 8**"
      ],
      "metadata": {
        "id": "a_Xzw8uQ-ltE"
      }
    },
    {
      "cell_type": "code",
      "source": [
        "def find_min(num_list):\n",
        "    # Your code here\n",
        "    return min(num_list)\n",
        "\n",
        "if __name__ == '__main__':\n",
        "    assert find_min([1, 22, 93, -100]) == -100\n",
        "    print(find_min([1, 2, 3, -1]))"
      ],
      "metadata": {
        "colab": {
          "base_uri": "https://localhost:8080/"
        },
        "id": "-qiPelrf_TCi",
        "outputId": "05328651-7647-4272-d72c-fa7b7b8a7376"
      },
      "execution_count": 20,
      "outputs": [
        {
          "output_type": "stream",
          "name": "stdout",
          "text": [
            "-1\n"
          ]
        }
      ]
    },
    {
      "cell_type": "markdown",
      "source": [
        "**Câu 9**"
      ],
      "metadata": {
        "id": "pGbVYxLx_cv-"
      }
    },
    {
      "cell_type": "code",
      "source": [
        "def find_max(num_list):\n",
        "    # Your code here\n",
        "    return max(num_list)\n",
        "if __name__ == '__main__':\n",
        "    assert find_max([1001, 9, 100, 0]) == 1001\n",
        "    print(find_max([1, 9, 9, 0]))"
      ],
      "metadata": {
        "colab": {
          "base_uri": "https://localhost:8080/"
        },
        "id": "s5ZMCH2p_lpN",
        "outputId": "82e24f44-f358-4aa5-b566-15620488f2d7"
      },
      "execution_count": 21,
      "outputs": [
        {
          "output_type": "stream",
          "name": "stdout",
          "text": [
            "9\n"
          ]
        }
      ]
    },
    {
      "cell_type": "markdown",
      "source": [
        "**Câu 10**"
      ],
      "metadata": {
        "id": "NbT3gyjxAGtT"
      }
    },
    {
      "cell_type": "code",
      "source": [
        "def compare_number(num_list, num=1):\n",
        "    return any(\n",
        "        num_list[i] == num for i in range(len(num_list))\n",
        "    )\n",
        "\n",
        "\n",
        "if __name__ == '__main__':\n",
        "    assert compare_number([1, 3, 9, 4], -1) == False\n",
        "    print(compare_number([1, 2, 3, 4], 2))"
      ],
      "metadata": {
        "colab": {
          "base_uri": "https://localhost:8080/"
        },
        "id": "JRpWS7rQAJp-",
        "outputId": "aeb4392f-d533-481f-945a-c2bbd506f433"
      },
      "execution_count": 22,
      "outputs": [
        {
          "output_type": "stream",
          "name": "stdout",
          "text": [
            "True\n"
          ]
        }
      ]
    },
    {
      "cell_type": "markdown",
      "source": [
        "**Câu 11**"
      ],
      "metadata": {
        "id": "ZicaRAEJBWpe"
      }
    },
    {
      "cell_type": "code",
      "source": [
        "def avg(num_list=[0, 1, 2]):\n",
        "    avg = 0\n",
        "    for num in num_list:\n",
        "        avg += num\n",
        "\n",
        "    return avg / len(num_list)\n",
        "\n",
        "\n",
        "if __name__ == '__main__':\n",
        "    assert avg([4, 6, 8]) == 6\n",
        "    print(avg())  # 1.0"
      ],
      "metadata": {
        "colab": {
          "base_uri": "https://localhost:8080/"
        },
        "id": "9adm1-axBIB4",
        "outputId": "f62beaee-e1fa-4c13-b24e-5151a9883eac"
      },
      "execution_count": 23,
      "outputs": [
        {
          "output_type": "stream",
          "name": "stdout",
          "text": [
            "1.0\n"
          ]
        }
      ]
    },
    {
      "cell_type": "markdown",
      "source": [
        "**Câu 12**"
      ],
      "metadata": {
        "id": "buBegljgCVH_"
      }
    },
    {
      "cell_type": "code",
      "source": [
        "def divisible_by_3(num_list):\n",
        "    var = []\n",
        "    for num in num_list:\n",
        "        if num % 3 == 0:\n",
        "            var.append(num)\n",
        "    return var"
      ],
      "metadata": {
        "id": "gQpQYhViCXnx"
      },
      "execution_count": 24,
      "outputs": []
    },
    {
      "cell_type": "code",
      "source": [
        "if __name__ == '__main__':\n",
        "    assert divisible_by_3([3, 9, 4, 5]) == [3, 9]\n",
        "    print(divisible_by_3([1, 2, 3, 5, 6]))  # [3, 6]"
      ],
      "metadata": {
        "colab": {
          "base_uri": "https://localhost:8080/"
        },
        "id": "8qp7Lki2Ch-H",
        "outputId": "dd535e5e-c2c8-4204-a376-f73853cc1000"
      },
      "execution_count": 25,
      "outputs": [
        {
          "output_type": "stream",
          "name": "stdout",
          "text": [
            "[3, 6]\n"
          ]
        }
      ]
    },
    {
      "cell_type": "markdown",
      "source": [
        "**Câu 13**"
      ],
      "metadata": {
        "id": "dS7OsTDTCoit"
      }
    },
    {
      "cell_type": "code",
      "source": [
        "def factorial(x):\n",
        "    res = 1\n",
        "    while (x > 1):\n",
        "        res *= x\n",
        "        x -= 1\n",
        "    return res\n",
        "\n",
        "if __name__ == '__main__':\n",
        "    assert factorial(8) == 40320\n",
        "    print(factorial(4))  # 24"
      ],
      "metadata": {
        "colab": {
          "base_uri": "https://localhost:8080/"
        },
        "id": "e3PQajjkCrrK",
        "outputId": "6cbe8056-9e80-4a0e-8c70-9dd726d25c2b"
      },
      "execution_count": 27,
      "outputs": [
        {
          "output_type": "stream",
          "name": "stdout",
          "text": [
            "24\n"
          ]
        }
      ]
    },
    {
      "cell_type": "markdown",
      "source": [
        "**Câu 14**"
      ],
      "metadata": {
        "id": "SZh5ay0ODm7H"
      }
    },
    {
      "cell_type": "code",
      "source": [
        "def reverse_string(str):\n",
        "    return str[::-1]\n",
        "\n",
        "\n",
        "if __name__ == '__main__':\n",
        "    assert reverse_string(\"I can do it\") == \"ti od nac I\"\n",
        "    print(reverse_string(\"apricot\"))  # tocirpa"
      ],
      "metadata": {
        "colab": {
          "base_uri": "https://localhost:8080/"
        },
        "id": "_Oi5_UR0Dpcq",
        "outputId": "cfc9b564-5f4d-4759-fba8-44f2acb71aa4"
      },
      "execution_count": 28,
      "outputs": [
        {
          "output_type": "stream",
          "name": "stdout",
          "text": [
            "tocirpa\n"
          ]
        }
      ]
    },
    {
      "cell_type": "markdown",
      "source": [
        "**Câu 15**"
      ],
      "metadata": {
        "id": "_nzz4pmtDw5q"
      }
    },
    {
      "cell_type": "code",
      "source": [
        "def function_helper(x):\n",
        "    # Your code here\n",
        "    # Neu x > 0 return \"T\", else return \"N\"\n",
        "    if x > 0:\n",
        "        return \"T\"\n",
        "    return \"N\"\n",
        "\n",
        "\n",
        "def compare_zero(num_list):\n",
        "    res = [function_helper(num) for num in num_list]\n",
        "    return res\n",
        "\n",
        "\n",
        "if __name__ == '__main__':\n",
        "    assert compare_zero([10, 0, -10, -1]) == [\"T\", \"N\", \"N\", \"N\"]\n",
        "    print(compare_zero([2, 3, 5, -1]))"
      ],
      "metadata": {
        "colab": {
          "base_uri": "https://localhost:8080/"
        },
        "id": "XC4vYKlaEPJr",
        "outputId": "e784871f-0534-4d16-a460-b5beeb0e331a"
      },
      "execution_count": 29,
      "outputs": [
        {
          "output_type": "stream",
          "name": "stdout",
          "text": [
            "['T', 'T', 'T', 'N']\n"
          ]
        }
      ]
    },
    {
      "cell_type": "markdown",
      "source": [
        "**Câu 16**"
      ],
      "metadata": {
        "id": "Pm6aHN1YEyZX"
      }
    },
    {
      "cell_type": "code",
      "source": [
        "def function_helper(x, num_list):\n",
        "    for num in num_list:\n",
        "        if x == num:\n",
        "            return False\n",
        "    return True\n",
        "\n",
        "\n",
        "def remove_duplicate(num_list):\n",
        "    res = []\n",
        "    for num in num_list:\n",
        "        if function_helper(num, res):\n",
        "            res.append(num)\n",
        "    return res\n",
        "\n",
        "\n",
        "if __name__ == '__main__':\n",
        "    assert remove_duplicate([10, 10, 9, 7, 7]) == [10, 9, 7]\n",
        "    print(remove_duplicate([9, 9, 8, 1, 1]))  # [9, 8, 1]"
      ],
      "metadata": {
        "colab": {
          "base_uri": "https://localhost:8080/"
        },
        "id": "AAgdhXrFE1Br",
        "outputId": "37717b73-0132-497a-b451-c0ed560653a0"
      },
      "execution_count": 30,
      "outputs": [
        {
          "output_type": "stream",
          "name": "stdout",
          "text": [
            "[9, 8, 1]\n"
          ]
        }
      ]
    }
  ]
}