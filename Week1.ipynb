{
  "nbformat": 4,
  "nbformat_minor": 0,
  "metadata": {
    "colab": {
      "provenance": []
    },
    "kernelspec": {
      "name": "python3",
      "display_name": "Python 3"
    },
    "language_info": {
      "name": "python"
    }
  },
  "cells": [
    {
      "cell_type": "markdown",
      "source": [
        "**CÂU** **1**"
      ],
      "metadata": {
        "id": "EKdrBF4nRR93"
      }
    },
    {
      "cell_type": "code",
      "source": [
        "def check_input(name,val):\n",
        "  if not isinstance(val, int):\n",
        "    return f\"{name} must be int\"\n",
        "  if val < 0:\n",
        "    return f\"{name} must be >= 0\"\n",
        "  return None"
      ],
      "metadata": {
        "id": "kcnZdtedRTbW"
      },
      "execution_count": 1,
      "outputs": []
    },
    {
      "cell_type": "code",
      "source": [
        "def calc_f1_score(tp,fp,fn):\n",
        "  for name,val in [(\"tp\",tp),(\"fp\",fp),(\"fn\",fn)]:\n",
        "    err = check_input(name,val)\n",
        "    if err is not None:\n",
        "      print(err)\n",
        "      return err\n",
        "  precision = tp / (tp + fp)\n",
        "  recall = tp / (tp + fn)\n",
        "  f1_score = 2 * precision * recall / (precision + recall)\n",
        "  print(f\"Precision: {precision}\")\n",
        "  print(f\"Recall: {recall}\")\n",
        "  print(f\"F1-score: {f1_score}\")\n",
        "  return f1_score"
      ],
      "metadata": {
        "id": "ue-gt6ROT8QM"
      },
      "execution_count": 2,
      "outputs": []
    },
    {
      "cell_type": "code",
      "source": [
        "if __name__ == \"__main__\":\n",
        "  assert round(calc_f1_score(2,3,5),2) == 0.33\n",
        "  print(round(calc_f1_score(2,4,5),2)) #0.31\n"
      ],
      "metadata": {
        "id": "j6f0-biGaCGj",
        "colab": {
          "base_uri": "https://localhost:8080/"
        },
        "outputId": "b5f9d1ac-74df-4e2d-e695-b0177e2055c3"
      },
      "execution_count": 3,
      "outputs": [
        {
          "output_type": "stream",
          "name": "stdout",
          "text": [
            "Precision: 0.4\n",
            "Recall: 0.2857142857142857\n",
            "F1-score: 0.3333333333333333\n",
            "Precision: 0.3333333333333333\n",
            "Recall: 0.2857142857142857\n",
            "F1-score: 0.30769230769230765\n",
            "0.31\n"
          ]
        }
      ]
    },
    {
      "cell_type": "markdown",
      "source": [
        "**CÂU 2**"
      ],
      "metadata": {
        "id": "GtOwunM-a5TG"
      }
    },
    {
      "cell_type": "code",
      "source": [
        "import math\n",
        "def is_number(x):\n",
        "    try:\n",
        "        float(x)\n",
        "    except ValueError:\n",
        "        return False\n",
        "    return True"
      ],
      "metadata": {
        "id": "ri2ItTdzBDqK"
      },
      "execution_count": 4,
      "outputs": []
    },
    {
      "cell_type": "code",
      "source": [
        "def sigmoid(x):\n",
        "    return 1 / (1 + math.e ** (-x))"
      ],
      "metadata": {
        "id": "2ahHHiT1BsW8"
      },
      "execution_count": 10,
      "outputs": []
    },
    {
      "cell_type": "code",
      "source": [
        "def relu(x):\n",
        "    return max(x, 0)"
      ],
      "metadata": {
        "id": "ViF1aP-cB-Mm"
      },
      "execution_count": 6,
      "outputs": []
    },
    {
      "cell_type": "code",
      "source": [
        "def elu(x, alpha=0.01):\n",
        "    return x if x > 0 \\\n",
        "        else alpha * (math.e ** x - 1)"
      ],
      "metadata": {
        "id": "_oK--tsnCGf9"
      },
      "execution_count": 7,
      "outputs": []
    },
    {
      "cell_type": "code",
      "source": [
        "def calc_act_func(x, act_func_name):\n",
        "  ACT_FUNC= {\n",
        "      \"sigmoid\": sigmoid,\n",
        "      \"relu\": relu,\n",
        "      \"elu\": elu\n",
        "  }\n",
        "  if not is_number(x):\n",
        "        print(\"x must be a number\")\n",
        "        return\n",
        "\n",
        "  if act_func_name not in ACT_FUNC.keys():\n",
        "        print(f\"{act_func_name} is not supported\")\n",
        "        return\n",
        "\n",
        "  x = float(x)\n",
        "  result = ACT_FUNC[act_func_name](x)\n",
        "  print(f\"{act_func_name}: f({x}) = {result}\")\n",
        "  return result"
      ],
      "metadata": {
        "id": "16E27D7mCXN0"
      },
      "execution_count": 8,
      "outputs": []
    },
    {
      "cell_type": "code",
      "source": [
        "if __name__ == \"__main__\":\n",
        "    assert is_number(3) == 1.0\n",
        "    assert is_number(\"-2a\") == 0.0\n",
        "    print(is_number(1))  # True\n",
        "    print(is_number(\"n\"))  # False\n",
        "\n",
        "    assert round(sigmoid(3), 2) == 0.95\n",
        "    print(round(sigmoid(2), 2))  # 0.88\n",
        "\n",
        "    assert round(elu(1)) == 1\n",
        "    print(round(elu(-1), 2))  # -0.01\n",
        "\n",
        "    assert calc_act_func(x=1, act_func_name=\"relu\") == 1\n",
        "    print(round(calc_act_func(x=3, act_func_name=\"sigmoid\"), 2))  # 0.95"
      ],
      "metadata": {
        "colab": {
          "base_uri": "https://localhost:8080/"
        },
        "id": "-196Gmc4n-Od",
        "outputId": "32b52a9d-f30f-4202-c285-db108ca4eea1"
      },
      "execution_count": 13,
      "outputs": [
        {
          "output_type": "stream",
          "name": "stdout",
          "text": [
            "True\n",
            "False\n",
            "0.88\n",
            "-0.01\n",
            "relu: f(1.0) = 1.0\n",
            "sigmoid: f(3.0) = 0.9525741268224334\n",
            "0.95\n"
          ]
        }
      ]
    },
    {
      "cell_type": "markdown",
      "source": [
        "**CÂU 3**"
      ],
      "metadata": {
        "id": "TJHzLjPruf4S"
      }
    },
    {
      "cell_type": "code",
      "source": [
        "import random\n",
        "import math\n",
        "\n",
        "def calc_ae(y, y_hat):\n",
        "    return abs(y - y_hat)\n"
      ],
      "metadata": {
        "id": "NeHIZwn7uhwS"
      },
      "execution_count": 14,
      "outputs": []
    },
    {
      "cell_type": "code",
      "source": [
        "def calc_se(y, y_hat):\n",
        "    return (y - y_hat) ** 2"
      ],
      "metadata": {
        "id": "8pD6ylLwwtEz"
      },
      "execution_count": 15,
      "outputs": []
    },
    {
      "cell_type": "code",
      "source": [
        "def mae(num_samples, loss_name):\n",
        "  loss = 0.0\n",
        "  for i in range(num_samples):\n",
        "    y = random.uniform(0, 10)\n",
        "    y_hat = random.uniform(0, 10)\n",
        "    loss += calc_ae(y, y_hat)\n",
        "  loss /= num_samples\n",
        "  print(f\"loss name: {loss_name}, \\\n",
        "            sample: {i}, \\\n",
        "            pred: {y_hat}, \\\n",
        "            target: {y}, \\\n",
        "            loss: {loss}\")"
      ],
      "metadata": {
        "id": "uvAajs7ww5dV"
      },
      "execution_count": 16,
      "outputs": []
    },
    {
      "cell_type": "code",
      "source": [
        "def mse(num_samples, loss_name):\n",
        "  loss = 0.0\n",
        "  for i in range(num_samples):\n",
        "    y = random.uniform(0, 10)\n",
        "    y_hat = random.uniform(0, 10)\n",
        "    loss += calc_se(y, y_hat)\n",
        "  loss /= num_samples\n",
        "  print(f\"loss name: {loss_name}, \\\n",
        "            sample: {i}, \\\n",
        "            pred: {y_hat}, \\\n",
        "            target: {y}, \\\n",
        "            loss: {loss}\")"
      ],
      "metadata": {
        "id": "-2CoJWwgxR4w"
      },
      "execution_count": 17,
      "outputs": []
    },
    {
      "cell_type": "code",
      "source": [
        "def rmse(num_samples, loss_name):\n",
        "    loss = 0.0\n",
        "    for i in range(num_samples):\n",
        "        y_hat = random.uniform(0, 10)\n",
        "        y = random.uniform(0, 10)\n",
        "        loss += calc_se(y, y_hat)\n",
        "        loss = math.sqrt(loss / num_samples)\n",
        "        print(f\"loss name: {loss_name}, \\\n",
        "            sample: {i}, \\\n",
        "            pred: {y_hat}, \\\n",
        "            target: {y}, \\\n",
        "            loss: {loss}\")"
      ],
      "metadata": {
        "id": "48W9KovCxZBL"
      },
      "execution_count": 18,
      "outputs": []
    },
    {
      "cell_type": "code",
      "source": [
        "def calc_loss():\n",
        "  LOSS_NAME = {\n",
        "        \"mae\": mae,\n",
        "        \"mse\": mse,\n",
        "        \"rmse\": rmse,\n",
        "    }\n",
        "  num_samples = input(\"Input number of samples (integer number): \")\n",
        "  if num_samples.isnumeric():\n",
        "        loss_name = input(\"Input loss name: \")\n",
        "        num_samples = int(num_samples)\n",
        "        LOSS_NAME[loss_name](num_samples, loss_name)\n",
        "  else:\n",
        "        print(\"Input must be an integer number\")"
      ],
      "metadata": {
        "id": "bMSopo_GxcBw"
      },
      "execution_count": 19,
      "outputs": []
    },
    {
      "cell_type": "code",
      "source": [
        "if __name__ == \"__main__\":\n",
        "    assert calc_ae(y=1, y_hat=6) == 5\n",
        "    print(calc_ae(y=2, y_hat=9))  # 7\n",
        "\n",
        "    assert calc_se(y=4, y_hat=2) == 4\n",
        "    print(calc_se(y=2, y_hat=1))  # 1"
      ],
      "metadata": {
        "colab": {
          "base_uri": "https://localhost:8080/"
        },
        "id": "im-YQqwByImv",
        "outputId": "475e467b-b18d-432e-aa57-fa7f40ef4f5c"
      },
      "execution_count": 20,
      "outputs": [
        {
          "output_type": "stream",
          "name": "stdout",
          "text": [
            "7\n",
            "1\n"
          ]
        }
      ]
    },
    {
      "cell_type": "markdown",
      "source": [
        "**CÂU 4**"
      ],
      "metadata": {
        "id": "1tm2StSkyuNv"
      }
    },
    {
      "cell_type": "code",
      "source": [
        "def factorial(x):\n",
        "    res = 1\n",
        "    for j in range(2, x + 1):\n",
        "        res *= j\n",
        "    return res"
      ],
      "metadata": {
        "id": "pfUGF5_oyxV5"
      },
      "execution_count": 21,
      "outputs": []
    },
    {
      "cell_type": "code",
      "source": [
        "def approx_sin(x, n):\n",
        "    res = 0.0\n",
        "    for i in range(n + 1):\n",
        "        res += ((-1) ** i) * (x ** (2 * i + 1)) / factorial(2 * i + 1)\n",
        "    return res"
      ],
      "metadata": {
        "id": "-x94ui7bzQ8Y"
      },
      "execution_count": 22,
      "outputs": []
    },
    {
      "cell_type": "code",
      "source": [
        "def approx_cos(x, n):\n",
        "    res = 0.0\n",
        "    for i in range(n + 1):\n",
        "        res += ((-1) ** i) * (x ** (2 * i)) / factorial(2 * i)\n",
        "    return res"
      ],
      "metadata": {
        "id": "0cf3_7KlzS3F"
      },
      "execution_count": 23,
      "outputs": []
    },
    {
      "cell_type": "code",
      "source": [
        "def approx_sinh(x, n):\n",
        "    res = 0.0\n",
        "    for i in range(n + 1):\n",
        "        res += (x ** (2 * i + 1)) / factorial(2 * i + 1)\n",
        "    return res"
      ],
      "metadata": {
        "id": "oKN3S4TWzVv0"
      },
      "execution_count": 24,
      "outputs": []
    },
    {
      "cell_type": "code",
      "source": [
        "def approx_cosh(x, n):\n",
        "    res = 0.0\n",
        "    for i in range(n + 1):\n",
        "        res += (x ** (2 * i)) / factorial(2 * i)\n",
        "    return res"
      ],
      "metadata": {
        "id": "MVyR5Ka_zW8g"
      },
      "execution_count": 25,
      "outputs": []
    },
    {
      "cell_type": "code",
      "source": [
        "if __name__ == \"__main__\":\n",
        "    assert round(approx_cos(x=1, n=10), 2) == 0.54\n",
        "    print(round(approx_cos(x=3.14, n=10), 2))  # -1.0\n",
        "\n",
        "    assert round(approx_sin(x=1, n=10), 4) == 0.8415\n",
        "    print(round(approx_sin(x=3.14, n=10), 4))  # 0.0016\n",
        "\n",
        "    assert round(approx_sinh(x=1, n=10), 2) == 1.18\n",
        "    print(round(approx_sinh(x=3.14, n=10), 2))  # 11.53\n",
        "\n",
        "    assert round(approx_cosh(x=1, n=10), 2) == 1.54\n",
        "    print(round(approx_cosh(x=3.14, n=10), 2))  # 11.57"
      ],
      "metadata": {
        "colab": {
          "base_uri": "https://localhost:8080/"
        },
        "id": "360ZU-bqzaUp",
        "outputId": "e0144625-0a80-4615-b0bb-bfa49c85a725"
      },
      "execution_count": 26,
      "outputs": [
        {
          "output_type": "stream",
          "name": "stdout",
          "text": [
            "-1.0\n",
            "0.0016\n",
            "11.53\n",
            "11.57\n"
          ]
        }
      ]
    },
    {
      "cell_type": "markdown",
      "source": [
        "**CÂU 5**"
      ],
      "metadata": {
        "id": "sfiMpi3A0I_y"
      }
    },
    {
      "cell_type": "code",
      "source": [
        "def md_nre_single_sample(y, y_hat, n, p):\n",
        "    y_root = y ** (1 / n)\n",
        "    y_hat_root = y_hat ** (1 / n)\n",
        "    md_nre = (y_root - y_hat_root) ** p\n",
        "    return md_nre"
      ],
      "metadata": {
        "id": "l-LCHm4Q0Lla"
      },
      "execution_count": 29,
      "outputs": []
    },
    {
      "cell_type": "code",
      "source": [
        "if __name__ == \"__main__\":\n",
        "    print(md_nre_single_sample(y=100, y_hat=99.5, n=2, p=1))\n",
        "    print(md_nre_single_sample(y=50, y_hat=49.5, n=2, p=1))\n",
        "    print(md_nre_single_sample(y=20, y_hat=19.5, n=2, p=1))\n",
        "    print(md_nre_single_sample(y=0.6, y_hat=0.1, n=2, p=1))"
      ],
      "metadata": {
        "colab": {
          "base_uri": "https://localhost:8080/"
        },
        "id": "03IjwHQJ0Tqf",
        "outputId": "ec02ca7c-4623-480e-c6e3-e226cfc3f783"
      },
      "execution_count": 30,
      "outputs": [
        {
          "output_type": "stream",
          "name": "stdout",
          "text": [
            "0.025031328369998107\n",
            "0.03544417213033135\n",
            "0.05625552183565574\n",
            "0.45836890322464546\n"
          ]
        }
      ]
    }
  ]
}